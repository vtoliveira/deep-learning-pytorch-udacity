{
 "cells": [
  {
   "cell_type": "markdown",
   "metadata": {},
   "source": [
    "# Character-Level LSTM in PyTorch\n",
    "\n",
    "In this notebook, I'll construct a character-level LSTM with PyTorch. The network will train character by character on some text, then generate new text character by character. As an example, I will train on Anna Karenina. **This model will be able to generate new text based on the text from the book!**\n",
    "\n",
    "This network is based off of Andrej Karpathy's [post on RNNs](http://karpathy.github.io/2015/05/21/rnn-effectiveness/) and [implementation in Torch](https://github.com/karpathy/char-rnn). Below is the general architecture of the character-wise RNN.\n",
    "\n",
    "<img src=\"assets/charseq.jpeg\" width=\"500\">"
   ]
  },
  {
   "cell_type": "markdown",
   "metadata": {},
   "source": [
    "First let's load in our required resources for data loading and model creation."
   ]
  },
  {
   "cell_type": "code",
   "execution_count": 1,
   "metadata": {},
   "outputs": [],
   "source": [
    "import numpy as np\n",
    "import torch\n",
    "from torch import nn\n",
    "import torch.nn.functional as F"
   ]
  },
  {
   "cell_type": "markdown",
   "metadata": {},
   "source": [
    "## Load in Data\n",
    "\n",
    "Then, we'll load the Anna Karenina text file and convert it into integers for our network to use. "
   ]
  },
  {
   "cell_type": "code",
   "execution_count": 2,
   "metadata": {},
   "outputs": [],
   "source": [
    "# open text file and read in data as `text`\n",
    "with open('data/anna.txt', 'r') as f:\n",
    "    text = f.read()"
   ]
  },
  {
   "cell_type": "markdown",
   "metadata": {},
   "source": [
    "Let's check out the first 100 characters, make sure everything is peachy. According to the [American Book Review](http://americanbookreview.org/100bestlines.asp), this is the 6th best first line of a book ever."
   ]
  },
  {
   "cell_type": "code",
   "execution_count": 3,
   "metadata": {},
   "outputs": [
    {
     "data": {
      "text/plain": [
       "'Chapter 1\\n\\n\\nHappy families are all alike; every unhappy family is unhappy in its own\\nway.\\n\\nEverythin'"
      ]
     },
     "execution_count": 3,
     "metadata": {},
     "output_type": "execute_result"
    }
   ],
   "source": [
    "text[:100]"
   ]
  },
  {
   "cell_type": "markdown",
   "metadata": {},
   "source": [
    "### Tokenization\n",
    "\n",
    "In the cells, below, I'm creating a couple **dictionaries** to convert the characters to and from integers. Encoding the characters as integers makes it easier to use as input in the network."
   ]
  },
  {
   "cell_type": "code",
   "execution_count": 4,
   "metadata": {},
   "outputs": [],
   "source": [
    "# encode the text and map each character to an integer and vice versa\n",
    "\n",
    "# we create two dictionaries:\n",
    "# 1. int2char, which maps integers to characters\n",
    "# 2. char2int, which maps characters to unique integers\n",
    "chars = tuple(set(text))\n",
    "int2char = dict(enumerate(chars))\n",
    "char2int = {ch: ii for ii, ch in int2char.items()}\n",
    "\n",
    "# encode the text\n",
    "encoded = np.array([char2int[ch] for ch in text])"
   ]
  },
  {
   "cell_type": "markdown",
   "metadata": {},
   "source": [
    "And we can see those same characters from above, encoded as integers."
   ]
  },
  {
   "cell_type": "code",
   "execution_count": 5,
   "metadata": {},
   "outputs": [
    {
     "data": {
      "text/plain": [
       "array([ 3, 50, 11, 70, 15, 31, 71, 21, 28, 23, 23, 23, 48, 11, 70, 70, 56,\n",
       "       21, 59, 11, 27, 72, 74, 72, 31, 58, 21, 11, 71, 31, 21, 11, 74, 74,\n",
       "       21, 11, 74, 72, 37, 31,  1, 21, 31, 68, 31, 71, 56, 21, 29, 80, 50,\n",
       "       11, 70, 70, 56, 21, 59, 11, 27, 72, 74, 56, 21, 72, 58, 21, 29, 80,\n",
       "       50, 11, 70, 70, 56, 21, 72, 80, 21, 72, 15, 58, 21, 43, 51, 80, 23,\n",
       "       51, 11, 56, 78, 23, 23, 75, 68, 31, 71, 56, 15, 50, 72, 80])"
      ]
     },
     "execution_count": 5,
     "metadata": {},
     "output_type": "execute_result"
    }
   ],
   "source": [
    "encoded[:100]"
   ]
  },
  {
   "cell_type": "markdown",
   "metadata": {},
   "source": [
    "## Pre-processing the data\n",
    "\n",
    "As you can see in our char-RNN image above, our LSTM expects an input that is **one-hot encoded** meaning that each character is converted into an integer (via our created dictionary) and *then* converted into a column vector where only it's corresponding integer index will have the value of 1 and the rest of the vector will be filled with 0's. Since we're one-hot encoding the data, let's make a function to do that!\n"
   ]
  },
  {
   "cell_type": "code",
   "execution_count": 6,
   "metadata": {},
   "outputs": [],
   "source": [
    "def one_hot_encode(arr, n_labels):\n",
    "    \n",
    "    # Initialize the the encoded array\n",
    "    one_hot = np.zeros((np.multiply(*arr.shape), n_labels), dtype=np.float32)\n",
    "    \n",
    "    # Fill the appropriate elements with ones\n",
    "    one_hot[np.arange(one_hot.shape[0]), arr.flatten()] = 1.\n",
    "    \n",
    "    # Finally reshape it to get back to the original array\n",
    "    one_hot = one_hot.reshape((*arr.shape, n_labels))\n",
    "    \n",
    "    return one_hot"
   ]
  },
  {
   "cell_type": "code",
   "execution_count": 7,
   "metadata": {},
   "outputs": [
    {
     "name": "stdout",
     "output_type": "stream",
     "text": [
      "[[[ 0.  0.  0.  1.  0.  0.  0.  0.]\n",
      "  [ 0.  0.  0.  0.  0.  1.  0.  0.]\n",
      "  [ 0.  1.  0.  0.  0.  0.  0.  0.]]]\n"
     ]
    }
   ],
   "source": [
    "# check that the function works as expected\n",
    "test_seq = np.array([[3, 5, 1]])\n",
    "one_hot = one_hot_encode(test_seq, 8)\n",
    "\n",
    "print(one_hot)"
   ]
  },
  {
   "cell_type": "markdown",
   "metadata": {},
   "source": [
    "## Making training mini-batches\n",
    "\n",
    "\n",
    "To train on this data, we also want to create mini-batches for training. Remember that we want our batches to be multiple sequences of some desired number of sequence steps. Considering a simple example, our batches would look like this:\n",
    "\n",
    "<img src=\"assets/sequence_batching@1x.png\" width=500px>\n",
    "\n",
    "\n",
    "<br>\n",
    "\n",
    "In this example, we'll take the encoded characters (passed in as the `arr` parameter) and split them into multiple sequences, given by `batch_size`. Each of our sequences will be `seq_length` long.\n",
    "\n",
    "### Creating Batches\n",
    "\n",
    "**1. The first thing we need to do is discard some of the text so we only have completely full mini-batches. **\n",
    "\n",
    "Each batch contains $N \\times M$ characters, where $N$ is the batch size (the number of sequences in a batch) and $M$ is the seq_length or number of time steps in a sequence. Then, to get the total number of batches, $K$, that we can make from the array `arr`, you divide the length of `arr` by the number of characters per batch. Once you know the number of batches, you can get the total number of characters to keep from `arr`, $N * M * K$.\n",
    "\n",
    "**2. After that, we need to split `arr` into $N$ batches. ** \n",
    "\n",
    "You can do this using `arr.reshape(size)` where `size` is a tuple containing the dimensions sizes of the reshaped array. We know we want $N$ sequences in a batch, so let's make that the size of the first dimension. For the second dimension, you can use `-1` as a placeholder in the size, it'll fill up the array with the appropriate data for you. After this, you should have an array that is $N \\times (M * K)$.\n",
    "\n",
    "**3. Now that we have this array, we can iterate through it to get our mini-batches. **\n",
    "\n",
    "The idea is each batch is a $N \\times M$ window on the $N \\times (M * K)$ array. For each subsequent batch, the window moves over by `seq_length`. We also want to create both the input and target arrays. Remember that the targets are just the inputs shifted over by one character. The way I like to do this window is use `range` to take steps of size `n_steps` from $0$ to `arr.shape[1]`, the total number of tokens in each sequence. That way, the integers you get from `range` always point to the start of a batch, and each window is `seq_length` wide.\n",
    "\n",
    "> **TODO:** Write the code for creating batches in the function below. The exercises in this notebook _will not be easy_. I've provided a notebook with solutions alongside this notebook. If you get stuck, checkout the solutions. The most important thing is that you don't copy and paste the code into here, **type out the solution code yourself.**"
   ]
  },
  {
   "cell_type": "code",
   "execution_count": 33,
   "metadata": {},
   "outputs": [],
   "source": [
    "def get_batches(arr, batch_size, seq_length):\n",
    "    '''Create a generator that returns batches of size\n",
    "       batch_size x seq_length from arr.\n",
    "       \n",
    "       Arguments\n",
    "       ---------\n",
    "       arr: Array you want to make batches from\n",
    "       batch_size: Batch size, the number of sequences per batch\n",
    "       seq_length: Number of encoded chars in a sequence\n",
    "    '''\n",
    "    \n",
    "    ## TODO: Get the number of batches we can make\n",
    "    batch_size_total = batch_size * seq_length\n",
    "    # total number of batches we can make\n",
    "    n_batches = len(arr)//batch_size_total\n",
    "    \n",
    "    # Keep only enough characters to make full batches\n",
    "    arr = arr[:n_batches * batch_size_total]\n",
    "    \n",
    "    ## TODO: Reshape into batch_size rows\n",
    "    \n",
    "    arr = arr.reshape((batch_size, -1))\n",
    "    \n",
    "    ## TODO: Iterate over the batches using a window of size seq_length\n",
    "    for n in range(0, arr.shape[1], seq_length):\n",
    "        # The features\n",
    "        x = arr[:, n:n+seq_length]\n",
    "        # The targets, shifted by one\n",
    "        y = np.zeros_like(x)\n",
    "        try:\n",
    "            y[:, :-1], y[:, -1] = x[:, 1:], arr[:, n+seq_length]\n",
    "        except IndexError:\n",
    "            y[:, :-1], y[:, -1] = x[:, 1:], arr[:, 0]\n",
    "        yield x, y"
   ]
  },
  {
   "cell_type": "markdown",
   "metadata": {},
   "source": [
    "### Test Your Implementation\n",
    "\n",
    "Now I'll make some data sets and we can check out what's going on as we batch data. Here, as an example, I'm going to use a batch size of 8 and 50 sequence steps."
   ]
  },
  {
   "cell_type": "code",
   "execution_count": 34,
   "metadata": {},
   "outputs": [],
   "source": [
    "batches = get_batches(encoded, 8, 50)\n",
    "x, y = next(batches)"
   ]
  },
  {
   "cell_type": "code",
   "execution_count": 35,
   "metadata": {},
   "outputs": [
    {
     "name": "stdout",
     "output_type": "stream",
     "text": [
      "x\n",
      " [[ 3 50 11 70 15 31 71 21 28 23]\n",
      " [58 43 80 21 15 50 11 15 21 11]\n",
      " [31 80  7 21 43 71 21 11 21 59]\n",
      " [58 21 15 50 31 21 32 50 72 31]\n",
      " [21 58 11 51 21 50 31 71 21 15]\n",
      " [32 29 58 58 72 43 80 21 11 80]\n",
      " [21 69 80 80 11 21 50 11  7 21]\n",
      " [ 5 38 74 43 80 58 37 56 78 21]]\n",
      "\n",
      "y\n",
      " [[50 11 70 15 31 71 21 28 23 23]\n",
      " [43 80 21 15 50 11 15 21 11 15]\n",
      " [80  7 21 43 71 21 11 21 59 43]\n",
      " [21 15 50 31 21 32 50 72 31 59]\n",
      " [58 11 51 21 50 31 71 21 15 31]\n",
      " [29 58 58 72 43 80 21 11 80  7]\n",
      " [69 80 80 11 21 50 11  7 21 58]\n",
      " [38 74 43 80 58 37 56 78 21 16]]\n"
     ]
    }
   ],
   "source": [
    "# printing out the first 10 items in a sequence\n",
    "print('x\\n', x[:10, :10])\n",
    "print('\\ny\\n', y[:10, :10])"
   ]
  },
  {
   "cell_type": "markdown",
   "metadata": {},
   "source": [
    "If you implemented `get_batches` correctly, the above output should look something like \n",
    "```\n",
    "x\n",
    " [[25  8 60 11 45 27 28 73  1  2]\n",
    " [17  7 20 73 45  8 60 45 73 60]\n",
    " [27 20 80 73  7 28 73 60 73 65]\n",
    " [17 73 45  8 27 73 66  8 46 27]\n",
    " [73 17 60 12 73  8 27 28 73 45]\n",
    " [66 64 17 17 46  7 20 73 60 20]\n",
    " [73 76 20 20 60 73  8 60 80 73]\n",
    " [47 35 43  7 20 17 24 50 37 73]]\n",
    "\n",
    "y\n",
    " [[ 8 60 11 45 27 28 73  1  2  2]\n",
    " [ 7 20 73 45  8 60 45 73 60 45]\n",
    " [20 80 73  7 28 73 60 73 65  7]\n",
    " [73 45  8 27 73 66  8 46 27 65]\n",
    " [17 60 12 73  8 27 28 73 45 27]\n",
    " [64 17 17 46  7 20 73 60 20 80]\n",
    " [76 20 20 60 73  8 60 80 73 17]\n",
    " [35 43  7 20 17 24 50 37 73 36]]\n",
    " ```\n",
    " although the exact numbers may be different. Check to make sure the data is shifted over one step for `y`."
   ]
  },
  {
   "cell_type": "markdown",
   "metadata": {},
   "source": [
    "---\n",
    "## Defining the network with PyTorch\n",
    "\n",
    "Below is where you'll define the network.\n",
    "\n",
    "<img src=\"assets/charRNN.png\" width=500px>\n",
    "\n",
    "Next, you'll use PyTorch to define the architecture of the network. We start by defining the layers and operations we want. Then, define a method for the forward pass. You've also been given a method for predicting characters."
   ]
  },
  {
   "cell_type": "markdown",
   "metadata": {},
   "source": [
    "### Model Structure\n",
    "\n",
    "In `__init__` the suggested structure is as follows:\n",
    "* Create and store the necessary dictionaries (this has been done for you)\n",
    "* Define an LSTM layer that takes as params: an input size (the number of characters), a hidden layer size `n_hidden`, a number of layers `n_layers`, a dropout probability `drop_prob`, and a batch_first boolean (True, since we are batching)\n",
    "* Define a dropout layer with `dropout_prob`\n",
    "* Define a fully-connected layer with params: input size `n_hidden` and output size (the number of characters)\n",
    "* Finally, initialize the weights (again, this has been given)\n",
    "\n",
    "Note that some parameters have been named and given in the `__init__` function, and we use them and store them by doing something like `self.drop_prob = drop_prob`."
   ]
  },
  {
   "cell_type": "markdown",
   "metadata": {},
   "source": [
    "---\n",
    "### LSTM Inputs/Outputs\n",
    "\n",
    "You can create a basic [LSTM layer](https://pytorch.org/docs/stable/nn.html#lstm) as follows\n",
    "\n",
    "```python\n",
    "self.lstm = nn.LSTM(input_size, n_hidden, n_layers, \n",
    "                            dropout=drop_prob, batch_first=True)\n",
    "```\n",
    "\n",
    "where `input_size` is the number of characters this cell expects to see as sequential input, and `n_hidden` is the number of units in the hidden layers in the cell. And we can add dropout by adding a dropout parameter with a specified probability; this will automatically add dropout to the inputs or outputs. Finally, in the `forward` function, we can stack up the LSTM cells into layers using `.view`. With this, you pass in a list of cells and it will send the output of one cell into the next cell.\n",
    "\n",
    "We also need to create an initial hidden state of all zeros. This is done like so\n",
    "\n",
    "```python\n",
    "self.init_hidden()\n",
    "```"
   ]
  },
  {
   "cell_type": "code",
   "execution_count": 36,
   "metadata": {},
   "outputs": [
    {
     "name": "stdout",
     "output_type": "stream",
     "text": [
      "Training on GPU!\n"
     ]
    }
   ],
   "source": [
    "# check if GPU is available\n",
    "train_on_gpu = torch.cuda.is_available()\n",
    "if(train_on_gpu):\n",
    "    print('Training on GPU!')\n",
    "else: \n",
    "    print('No GPU available, training on CPU; consider making n_epochs very small.')"
   ]
  },
  {
   "cell_type": "code",
   "execution_count": 37,
   "metadata": {},
   "outputs": [],
   "source": [
    "class CharRNN(nn.Module):\n",
    "    \n",
    "    def __init__(self, tokens, n_hidden=256, n_layers=2,\n",
    "                               drop_prob=0.5, lr=0.001):\n",
    "        super().__init__()\n",
    "        self.drop_prob = drop_prob\n",
    "        self.n_layers = n_layers\n",
    "        self.n_hidden = n_hidden\n",
    "        self.lr = lr\n",
    "        \n",
    "        # creating character dictionaries\n",
    "        self.chars = tokens\n",
    "        self.int2char = dict(enumerate(self.chars))\n",
    "        self.char2int = {ch: ii for ii, ch in self.int2char.items()}\n",
    "        \n",
    "        ## TODO: define the LSTM\n",
    "        self.lstm = nn.LSTM(len(self.chars), n_hidden, n_layers, \n",
    "                            dropout=drop_prob, batch_first=True)\n",
    "        \n",
    "        ## TODO: define a dropout layer\n",
    "        self.dropout = nn.Dropout(drop_prob)\n",
    "        \n",
    "        ## TODO: define the final, fully-connected output layer\n",
    "        self.fc = nn.Linear(n_hidden, len(self.chars))\n",
    "      \n",
    "    \n",
    "    def forward(self, x, hidden):\n",
    "        ''' Forward pass through the network. \n",
    "            These inputs are x, and the hidden/cell state `hidden`. '''\n",
    "                \n",
    "        ## TODO: Get the outputs and the new hidden state from the lstm\n",
    "        r_output, hidden = self.lstm(x, hidden)\n",
    "        \n",
    "        ## TODO: pass through a dropout layer\n",
    "        out = self.dropout(r_output)\n",
    "        \n",
    "        # Stack up LSTM outputs using view\n",
    "        # you may need to use contiguous to reshape the output\n",
    "        out = out.contiguous().view(-1, self.n_hidden)\n",
    "        \n",
    "        ## TODO: put x through the fully-connected layer\n",
    "        out = self.fc(out)\n",
    "        \n",
    "        # return the final output and the hidden state\n",
    "        return out, hidden\n",
    "    \n",
    "    \n",
    "    def init_hidden(self, batch_size):\n",
    "        ''' Initializes hidden state '''\n",
    "        # Create two new tensors with sizes n_layers x batch_size x n_hidden,\n",
    "        # initialized to zero, for hidden state and cell state of LSTM\n",
    "        weight = next(self.parameters()).data\n",
    "        \n",
    "        if (train_on_gpu):\n",
    "            hidden = (weight.new(self.n_layers, batch_size, self.n_hidden).zero_().cuda(),\n",
    "                  weight.new(self.n_layers, batch_size, self.n_hidden).zero_().cuda())\n",
    "        else:\n",
    "            hidden = (weight.new(self.n_layers, batch_size, self.n_hidden).zero_(),\n",
    "                      weight.new(self.n_layers, batch_size, self.n_hidden).zero_())\n",
    "        \n",
    "        return hidden\n",
    "        "
   ]
  },
  {
   "cell_type": "markdown",
   "metadata": {},
   "source": [
    "## Time to train\n",
    "\n",
    "The train function gives us the ability to set the number of epochs, the learning rate, and other parameters.\n",
    "\n",
    "Below we're using an Adam optimizer and cross entropy loss since we are looking at character class scores as output. We calculate the loss and perform backpropagation, as usual!\n",
    "\n",
    "A couple of details about training: \n",
    ">* Within the batch loop, we detach the hidden state from its history; this time setting it equal to a new *tuple* variable because an LSTM has a hidden state that is a tuple of the hidden and cell states.\n",
    "* We use [`clip_grad_norm_`](https://pytorch.org/docs/stable/_modules/torch/nn/utils/clip_grad.html) to help prevent exploding gradients."
   ]
  },
  {
   "cell_type": "code",
   "execution_count": 44,
   "metadata": {},
   "outputs": [],
   "source": [
    "def train(net, data, epochs=10, batch_size=10, seq_length=50, lr=0.001, clip=5, val_frac=0.1, print_every=10):\n",
    "    ''' Training a network \n",
    "    \n",
    "        Arguments\n",
    "        ---------\n",
    "        \n",
    "        net: CharRNN network\n",
    "        data: text data to train the network\n",
    "        epochs: Number of epochs to train\n",
    "        batch_size: Number of mini-sequences per mini-batch, aka batch size\n",
    "        seq_length: Number of character steps per mini-batch\n",
    "        lr: learning rate\n",
    "        clip: gradient clipping\n",
    "        val_frac: Fraction of data to hold out for validation\n",
    "        print_every: Number of steps for printing training and validation loss\n",
    "    \n",
    "    '''\n",
    "    net.train()\n",
    "    \n",
    "    opt = torch.optim.Adam(net.parameters(), lr=lr)\n",
    "    criterion = nn.CrossEntropyLoss()\n",
    "    \n",
    "    # create training and validation data\n",
    "    val_idx = int(len(data)*(1-val_frac))\n",
    "    data, val_data = data[:val_idx], data[val_idx:]\n",
    "    \n",
    "    if(train_on_gpu):\n",
    "        net.cuda()\n",
    "    \n",
    "    counter = 0\n",
    "    n_chars = len(net.chars)\n",
    "    for e in range(epochs):\n",
    "        # initialize hidden state\n",
    "        h = net.init_hidden(batch_size)\n",
    "    \n",
    "        for x, y in get_batches(data, batch_size, seq_length):\n",
    "            counter += 1\n",
    "            # One-hot encode our data and make them Torch tensors\n",
    "            x = one_hot_encode(x, n_chars)\n",
    "            inputs, targets = torch.from_numpy(x), torch.from_numpy(y)\n",
    "            \n",
    "            if(train_on_gpu):\n",
    "                inputs, targets = inputs.cuda(), targets.cuda()\n",
    "\n",
    "            # Creating new variables for the hidden state, otherwise\n",
    "            # we'd backprop through the entire training history\n",
    "            h = tuple([each.data for each in h])\n",
    "\n",
    "            # zero accumulated gradients\n",
    "            net.zero_grad()\n",
    "            \n",
    "            # get the output from the model\n",
    "            output, h = net(inputs, h)\n",
    "            \n",
    "            # calculate the loss and perform backprop\n",
    "            targets = targets.view(batch_size*seq_length)\n",
    "            targets = targets.type(torch.cuda.LongTensor)\n",
    "            loss = criterion(output, targets.view(batch_size*seq_length))\n",
    "            loss.backward()\n",
    "            # `clip_grad_norm` helps prevent the exploding gradient problem in RNNs / LSTMs.\n",
    "            nn.utils.clip_grad_norm_(net.parameters(), clip)\n",
    "            opt.step()\n",
    "            \n",
    "            # loss stats\n",
    "            if counter % print_every == 0:\n",
    "                # Get validation loss\n",
    "                val_h = net.init_hidden(batch_size)\n",
    "                val_losses = []\n",
    "                net.eval()\n",
    "                for x, y in get_batches(val_data, batch_size, seq_length):\n",
    "                    # One-hot encode our data and make them Torch tensors\n",
    "                    x = one_hot_encode(x, n_chars)\n",
    "                    \n",
    "                    x, y = torch.from_numpy(x), torch.from_numpy(y)\n",
    "                    \n",
    "                    # Creating new variables for the hidden state, otherwise\n",
    "                    # we'd backprop through the entire training history\n",
    "                    val_h = tuple([each.data for each in val_h])\n",
    "                    \n",
    "                    inputs, targets = x, y\n",
    "                    if(train_on_gpu):\n",
    "                        inputs, targets = inputs.cuda(), targets.cuda()\n",
    "\n",
    "                    output, val_h = net(inputs, val_h)\n",
    "                    targets = targets.view(batch_size*seq_length)\n",
    "                    targets = targets.type(torch.cuda.LongTensor)\n",
    "                    \n",
    "                    val_loss = criterion(output, targets.view(batch_size*seq_length))\n",
    "                \n",
    "                    val_losses.append(val_loss.item())\n",
    "                \n",
    "                net.train() # reset to train mode after iterationg through validation data\n",
    "                \n",
    "                print(\"Epoch: {}/{}...\".format(e+1, epochs),\n",
    "                      \"Step: {}...\".format(counter),\n",
    "                      \"Loss: {:.4f}...\".format(loss.item()),\n",
    "                      \"Val Loss: {:.4f}\".format(np.mean(val_losses)))"
   ]
  },
  {
   "cell_type": "markdown",
   "metadata": {},
   "source": [
    "## Instantiating the model\n",
    "\n",
    "Now we can actually train the network. First we'll create the network itself, with some given hyperparameters. Then, define the mini-batches sizes, and start training!"
   ]
  },
  {
   "cell_type": "code",
   "execution_count": 45,
   "metadata": {},
   "outputs": [
    {
     "name": "stdout",
     "output_type": "stream",
     "text": [
      "CharRNN(\n",
      "  (lstm): LSTM(83, 512, num_layers=2, batch_first=True, dropout=0.5)\n",
      "  (dropout): Dropout(p=0.5)\n",
      "  (fc): Linear(in_features=512, out_features=83, bias=True)\n",
      ")\n"
     ]
    }
   ],
   "source": [
    "## TODO: set you model hyperparameters\n",
    "# define and print the net\n",
    "n_hidden=512\n",
    "n_layers=2\n",
    "\n",
    "net = CharRNN(chars, n_hidden, n_layers)\n",
    "print(net)"
   ]
  },
  {
   "cell_type": "markdown",
   "metadata": {},
   "source": [
    "### Set your training hyperparameters!"
   ]
  },
  {
   "cell_type": "code",
   "execution_count": 46,
   "metadata": {
    "scrolled": true
   },
   "outputs": [
    {
     "name": "stdout",
     "output_type": "stream",
     "text": [
      "Epoch: 1/10... Step: 10... Loss: 3.2546... Val Loss: 3.1782\n",
      "Epoch: 1/10... Step: 20... Loss: 3.1389... Val Loss: 3.1281\n",
      "Epoch: 1/10... Step: 30... Loss: 3.1378... Val Loss: 3.1207\n",
      "Epoch: 1/10... Step: 40... Loss: 3.1106... Val Loss: 3.1190\n",
      "Epoch: 1/10... Step: 50... Loss: 3.1416... Val Loss: 3.1169\n",
      "Epoch: 1/10... Step: 60... Loss: 3.1165... Val Loss: 3.1140\n",
      "Epoch: 1/10... Step: 70... Loss: 3.1042... Val Loss: 3.1105\n",
      "Epoch: 1/10... Step: 80... Loss: 3.1159... Val Loss: 3.1021\n",
      "Epoch: 1/10... Step: 90... Loss: 3.0970... Val Loss: 3.0815\n",
      "Epoch: 1/10... Step: 100... Loss: 3.0609... Val Loss: 3.0373\n",
      "Epoch: 1/10... Step: 110... Loss: 3.0049... Val Loss: 2.9771\n",
      "Epoch: 1/10... Step: 120... Loss: 2.8605... Val Loss: 2.8545\n",
      "Epoch: 1/10... Step: 130... Loss: 2.7686... Val Loss: 2.7180\n",
      "Epoch: 2/10... Step: 140... Loss: 2.6783... Val Loss: 2.6154\n",
      "Epoch: 2/10... Step: 150... Loss: 2.5925... Val Loss: 2.5475\n",
      "Epoch: 2/10... Step: 160... Loss: 2.5281... Val Loss: 2.4916\n",
      "Epoch: 2/10... Step: 170... Loss: 2.4730... Val Loss: 2.4453\n",
      "Epoch: 2/10... Step: 180... Loss: 2.4333... Val Loss: 2.4112\n",
      "Epoch: 2/10... Step: 190... Loss: 2.3859... Val Loss: 2.3801\n",
      "Epoch: 2/10... Step: 200... Loss: 2.3773... Val Loss: 2.3445\n",
      "Epoch: 2/10... Step: 210... Loss: 2.3440... Val Loss: 2.3158\n",
      "Epoch: 2/10... Step: 220... Loss: 2.3001... Val Loss: 2.2850\n",
      "Epoch: 2/10... Step: 230... Loss: 2.3189... Val Loss: 2.3025\n",
      "Epoch: 2/10... Step: 240... Loss: 2.2864... Val Loss: 2.2463\n",
      "Epoch: 2/10... Step: 250... Loss: 2.2134... Val Loss: 2.2201\n",
      "Epoch: 2/10... Step: 260... Loss: 2.1843... Val Loss: 2.1886\n",
      "Epoch: 2/10... Step: 270... Loss: 2.2037... Val Loss: 2.1644\n",
      "Epoch: 3/10... Step: 280... Loss: 2.1899... Val Loss: 2.1456\n",
      "Epoch: 3/10... Step: 290... Loss: 2.1553... Val Loss: 2.1225\n",
      "Epoch: 3/10... Step: 300... Loss: 2.1300... Val Loss: 2.1015\n",
      "Epoch: 3/10... Step: 310... Loss: 2.0987... Val Loss: 2.0823\n",
      "Epoch: 3/10... Step: 320... Loss: 2.0758... Val Loss: 2.0636\n",
      "Epoch: 3/10... Step: 330... Loss: 2.0536... Val Loss: 2.0536\n",
      "Epoch: 3/10... Step: 340... Loss: 2.0790... Val Loss: 2.0339\n",
      "Epoch: 3/10... Step: 350... Loss: 2.0485... Val Loss: 2.0091\n",
      "Epoch: 3/10... Step: 360... Loss: 1.9830... Val Loss: 1.9946\n",
      "Epoch: 3/10... Step: 370... Loss: 2.0212... Val Loss: 1.9779\n",
      "Epoch: 3/10... Step: 380... Loss: 1.9887... Val Loss: 1.9614\n",
      "Epoch: 3/10... Step: 390... Loss: 1.9617... Val Loss: 1.9500\n",
      "Epoch: 3/10... Step: 400... Loss: 1.9343... Val Loss: 1.9355\n",
      "Epoch: 3/10... Step: 410... Loss: 1.9483... Val Loss: 1.9194\n",
      "Epoch: 4/10... Step: 420... Loss: 1.9380... Val Loss: 1.9022\n",
      "Epoch: 4/10... Step: 430... Loss: 1.9244... Val Loss: 1.8887\n",
      "Epoch: 4/10... Step: 440... Loss: 1.9062... Val Loss: 1.8798\n",
      "Epoch: 4/10... Step: 450... Loss: 1.8492... Val Loss: 1.8583\n",
      "Epoch: 4/10... Step: 460... Loss: 1.8359... Val Loss: 1.8496\n",
      "Epoch: 4/10... Step: 470... Loss: 1.8757... Val Loss: 1.8406\n",
      "Epoch: 4/10... Step: 480... Loss: 1.8501... Val Loss: 1.8293\n",
      "Epoch: 4/10... Step: 490... Loss: 1.8573... Val Loss: 1.8228\n",
      "Epoch: 4/10... Step: 500... Loss: 1.8479... Val Loss: 1.8055\n",
      "Epoch: 4/10... Step: 510... Loss: 1.8266... Val Loss: 1.7961\n",
      "Epoch: 4/10... Step: 520... Loss: 1.8338... Val Loss: 1.7845\n",
      "Epoch: 4/10... Step: 530... Loss: 1.7927... Val Loss: 1.7785\n",
      "Epoch: 4/10... Step: 540... Loss: 1.7576... Val Loss: 1.7636\n",
      "Epoch: 4/10... Step: 550... Loss: 1.8019... Val Loss: 1.7553\n",
      "Epoch: 5/10... Step: 560... Loss: 1.7671... Val Loss: 1.7466\n",
      "Epoch: 5/10... Step: 570... Loss: 1.7583... Val Loss: 1.7373\n",
      "Epoch: 5/10... Step: 580... Loss: 1.7359... Val Loss: 1.7276\n",
      "Epoch: 5/10... Step: 590... Loss: 1.7388... Val Loss: 1.7182\n",
      "Epoch: 5/10... Step: 600... Loss: 1.7284... Val Loss: 1.7119\n",
      "Epoch: 5/10... Step: 610... Loss: 1.7121... Val Loss: 1.7049\n",
      "Epoch: 5/10... Step: 620... Loss: 1.7226... Val Loss: 1.6973\n",
      "Epoch: 5/10... Step: 630... Loss: 1.7250... Val Loss: 1.6893\n",
      "Epoch: 5/10... Step: 640... Loss: 1.6981... Val Loss: 1.6792\n",
      "Epoch: 5/10... Step: 650... Loss: 1.6824... Val Loss: 1.6743\n",
      "Epoch: 5/10... Step: 660... Loss: 1.6598... Val Loss: 1.6654\n",
      "Epoch: 5/10... Step: 670... Loss: 1.6861... Val Loss: 1.6625\n",
      "Epoch: 5/10... Step: 680... Loss: 1.6919... Val Loss: 1.6528\n",
      "Epoch: 5/10... Step: 690... Loss: 1.6556... Val Loss: 1.6487\n",
      "Epoch: 6/10... Step: 700... Loss: 1.6716... Val Loss: 1.6412\n",
      "Epoch: 6/10... Step: 710... Loss: 1.6485... Val Loss: 1.6389\n",
      "Epoch: 6/10... Step: 720... Loss: 1.6405... Val Loss: 1.6250\n",
      "Epoch: 6/10... Step: 730... Loss: 1.6407... Val Loss: 1.6232\n",
      "Epoch: 6/10... Step: 740... Loss: 1.6136... Val Loss: 1.6143\n",
      "Epoch: 6/10... Step: 750... Loss: 1.5888... Val Loss: 1.6114\n",
      "Epoch: 6/10... Step: 760... Loss: 1.6432... Val Loss: 1.6055\n",
      "Epoch: 6/10... Step: 770... Loss: 1.6224... Val Loss: 1.6005\n",
      "Epoch: 6/10... Step: 780... Loss: 1.6035... Val Loss: 1.5928\n",
      "Epoch: 6/10... Step: 790... Loss: 1.5864... Val Loss: 1.5885\n",
      "Epoch: 6/10... Step: 800... Loss: 1.6048... Val Loss: 1.5859\n",
      "Epoch: 6/10... Step: 810... Loss: 1.5962... Val Loss: 1.5807\n",
      "Epoch: 6/10... Step: 820... Loss: 1.5542... Val Loss: 1.5754\n",
      "Epoch: 6/10... Step: 830... Loss: 1.6006... Val Loss: 1.5709\n",
      "Epoch: 7/10... Step: 840... Loss: 1.5537... Val Loss: 1.5645\n",
      "Epoch: 7/10... Step: 850... Loss: 1.5812... Val Loss: 1.5639\n",
      "Epoch: 7/10... Step: 860... Loss: 1.5513... Val Loss: 1.5554\n",
      "Epoch: 7/10... Step: 870... Loss: 1.5702... Val Loss: 1.5530\n",
      "Epoch: 7/10... Step: 880... Loss: 1.5675... Val Loss: 1.5488\n",
      "Epoch: 7/10... Step: 890... Loss: 1.5668... Val Loss: 1.5446\n",
      "Epoch: 7/10... Step: 900... Loss: 1.5454... Val Loss: 1.5422\n",
      "Epoch: 7/10... Step: 910... Loss: 1.5204... Val Loss: 1.5363\n",
      "Epoch: 7/10... Step: 920... Loss: 1.5336... Val Loss: 1.5316\n",
      "Epoch: 7/10... Step: 930... Loss: 1.5168... Val Loss: 1.5261\n",
      "Epoch: 7/10... Step: 940... Loss: 1.5240... Val Loss: 1.5243\n",
      "Epoch: 7/10... Step: 950... Loss: 1.5376... Val Loss: 1.5218\n",
      "Epoch: 7/10... Step: 960... Loss: 1.5351... Val Loss: 1.5165\n",
      "Epoch: 7/10... Step: 970... Loss: 1.5396... Val Loss: 1.5122\n",
      "Epoch: 8/10... Step: 980... Loss: 1.5211... Val Loss: 1.5098\n",
      "Epoch: 8/10... Step: 990... Loss: 1.5077... Val Loss: 1.5064\n",
      "Epoch: 8/10... Step: 1000... Loss: 1.5003... Val Loss: 1.5018\n",
      "Epoch: 8/10... Step: 1010... Loss: 1.5479... Val Loss: 1.4998\n",
      "Epoch: 8/10... Step: 1020... Loss: 1.5118... Val Loss: 1.4955\n",
      "Epoch: 8/10... Step: 1030... Loss: 1.4962... Val Loss: 1.4912\n",
      "Epoch: 8/10... Step: 1040... Loss: 1.5071... Val Loss: 1.4876\n",
      "Epoch: 8/10... Step: 1050... Loss: 1.4864... Val Loss: 1.4880\n",
      "Epoch: 8/10... Step: 1060... Loss: 1.4893... Val Loss: 1.4840\n",
      "Epoch: 8/10... Step: 1070... Loss: 1.4963... Val Loss: 1.4803\n",
      "Epoch: 8/10... Step: 1080... Loss: 1.4822... Val Loss: 1.4789\n",
      "Epoch: 8/10... Step: 1090... Loss: 1.4716... Val Loss: 1.4751\n",
      "Epoch: 8/10... Step: 1100... Loss: 1.4588... Val Loss: 1.4695\n",
      "Epoch: 8/10... Step: 1110... Loss: 1.4655... Val Loss: 1.4665\n",
      "Epoch: 9/10... Step: 1120... Loss: 1.4828... Val Loss: 1.4673\n",
      "Epoch: 9/10... Step: 1130... Loss: 1.4791... Val Loss: 1.4632\n",
      "Epoch: 9/10... Step: 1140... Loss: 1.4765... Val Loss: 1.4588\n",
      "Epoch: 9/10... Step: 1150... Loss: 1.4929... Val Loss: 1.4608\n",
      "Epoch: 9/10... Step: 1160... Loss: 1.4471... Val Loss: 1.4584\n",
      "Epoch: 9/10... Step: 1170... Loss: 1.4583... Val Loss: 1.4519\n",
      "Epoch: 9/10... Step: 1180... Loss: 1.4431... Val Loss: 1.4529\n",
      "Epoch: 9/10... Step: 1190... Loss: 1.4787... Val Loss: 1.4503\n",
      "Epoch: 9/10... Step: 1200... Loss: 1.4270... Val Loss: 1.4429\n",
      "Epoch: 9/10... Step: 1210... Loss: 1.4415... Val Loss: 1.4401\n",
      "Epoch: 9/10... Step: 1220... Loss: 1.4362... Val Loss: 1.4401\n",
      "Epoch: 9/10... Step: 1230... Loss: 1.4086... Val Loss: 1.4393\n",
      "Epoch: 9/10... Step: 1240... Loss: 1.4276... Val Loss: 1.4341\n",
      "Epoch: 9/10... Step: 1250... Loss: 1.4319... Val Loss: 1.4338\n",
      "Epoch: 10/10... Step: 1260... Loss: 1.4377... Val Loss: 1.4319\n",
      "Epoch: 10/10... Step: 1270... Loss: 1.4302... Val Loss: 1.4301\n",
      "Epoch: 10/10... Step: 1280... Loss: 1.4390... Val Loss: 1.4262\n",
      "Epoch: 10/10... Step: 1290... Loss: 1.4262... Val Loss: 1.4284\n",
      "Epoch: 10/10... Step: 1300... Loss: 1.4193... Val Loss: 1.4238\n",
      "Epoch: 10/10... Step: 1310... Loss: 1.4271... Val Loss: 1.4237\n",
      "Epoch: 10/10... Step: 1320... Loss: 1.3960... Val Loss: 1.4217\n",
      "Epoch: 10/10... Step: 1330... Loss: 1.3991... Val Loss: 1.4197\n",
      "Epoch: 10/10... Step: 1340... Loss: 1.4032... Val Loss: 1.4133\n"
     ]
    },
    {
     "name": "stdout",
     "output_type": "stream",
     "text": [
      "Epoch: 10/10... Step: 1350... Loss: 1.3832... Val Loss: 1.4087\n",
      "Epoch: 10/10... Step: 1360... Loss: 1.3876... Val Loss: 1.4151\n",
      "Epoch: 10/10... Step: 1370... Loss: 1.3758... Val Loss: 1.4097\n",
      "Epoch: 10/10... Step: 1380... Loss: 1.4244... Val Loss: 1.4063\n",
      "Epoch: 10/10... Step: 1390... Loss: 1.4246... Val Loss: 1.4072\n"
     ]
    }
   ],
   "source": [
    "batch_size = 128\n",
    "seq_length = 100\n",
    "n_epochs =  10 # start small if you are just testing initial behavior\n",
    "\n",
    "# train the model\n",
    "train(net, encoded, epochs=n_epochs, batch_size=batch_size, seq_length=seq_length, lr=0.001, print_every=10)"
   ]
  },
  {
   "cell_type": "markdown",
   "metadata": {},
   "source": [
    "## Getting the best model\n",
    "\n",
    "To set your hyperparameters to get the best performance, you'll want to watch the training and validation losses. If your training loss is much lower than the validation loss, you're overfitting. Increase regularization (more dropout) or use a smaller network. If the training and validation losses are close, you're underfitting so you can increase the size of the network."
   ]
  },
  {
   "cell_type": "markdown",
   "metadata": {},
   "source": [
    "## Hyperparameters\n",
    "\n",
    "Here are the hyperparameters for the network.\n",
    "\n",
    "In defining the model:\n",
    "* `n_hidden` - The number of units in the hidden layers.\n",
    "* `n_layers` - Number of hidden LSTM layers to use.\n",
    "\n",
    "We assume that dropout probability and learning rate will be kept at the default, in this example.\n",
    "\n",
    "And in training:\n",
    "* `batch_size` - Number of sequences running through the network in one pass.\n",
    "* `seq_length` - Number of characters in the sequence the network is trained on. Larger is better typically, the network will learn more long range dependencies. But it takes longer to train. 100 is typically a good number here.\n",
    "* `lr` - Learning rate for training\n",
    "\n",
    "Here's some good advice from Andrej Karpathy on training the network. I'm going to copy it in here for your benefit, but also link to [where it originally came from](https://github.com/karpathy/char-rnn#tips-and-tricks).\n",
    "\n",
    "> ## Tips and Tricks\n",
    "\n",
    ">### Monitoring Validation Loss vs. Training Loss\n",
    ">If you're somewhat new to Machine Learning or Neural Networks it can take a bit of expertise to get good models. The most important quantity to keep track of is the difference between your training loss (printed during training) and the validation loss (printed once in a while when the RNN is run on the validation data (by default every 1000 iterations)). In particular:\n",
    "\n",
    "> - If your training loss is much lower than validation loss then this means the network might be **overfitting**. Solutions to this are to decrease your network size, or to increase dropout. For example you could try dropout of 0.5 and so on.\n",
    "> - If your training/validation loss are about equal then your model is **underfitting**. Increase the size of your model (either number of layers or the raw number of neurons per layer)\n",
    "\n",
    "> ### Approximate number of parameters\n",
    "\n",
    "> The two most important parameters that control the model are `n_hidden` and `n_layers`. I would advise that you always use `n_layers` of either 2/3. The `n_hidden` can be adjusted based on how much data you have. The two important quantities to keep track of here are:\n",
    "\n",
    "> - The number of parameters in your model. This is printed when you start training.\n",
    "> - The size of your dataset. 1MB file is approximately 1 million characters.\n",
    "\n",
    ">These two should be about the same order of magnitude. It's a little tricky to tell. Here are some examples:\n",
    "\n",
    "> - I have a 100MB dataset and I'm using the default parameter settings (which currently print 150K parameters). My data size is significantly larger (100 mil >> 0.15 mil), so I expect to heavily underfit. I am thinking I can comfortably afford to make `n_hidden` larger.\n",
    "> - I have a 10MB dataset and running a 10 million parameter model. I'm slightly nervous and I'm carefully monitoring my validation loss. If it's larger than my training loss then I may want to try to increase dropout a bit and see if that helps the validation loss.\n",
    "\n",
    "> ### Best models strategy\n",
    "\n",
    ">The winning strategy to obtaining very good models (if you have the compute time) is to always err on making the network larger (as large as you're willing to wait for it to compute) and then try different dropout values (between 0,1). Whatever model has the best validation performance (the loss, written in the checkpoint filename, low is good) is the one you should use in the end.\n",
    "\n",
    ">It is very common in deep learning to run many different models with many different hyperparameter settings, and in the end take whatever checkpoint gave the best validation performance.\n",
    "\n",
    ">By the way, the size of your training and validation splits are also parameters. Make sure you have a decent amount of data in your validation set or otherwise the validation performance will be noisy and not very informative."
   ]
  },
  {
   "cell_type": "markdown",
   "metadata": {},
   "source": [
    "## Checkpoint\n",
    "\n",
    "After training, we'll save the model so we can load it again later if we need too. Here I'm saving the parameters needed to create the same architecture, the hidden layer hyperparameters and the text characters."
   ]
  },
  {
   "cell_type": "code",
   "execution_count": 47,
   "metadata": {},
   "outputs": [],
   "source": [
    "# change the name, for saving multiple files\n",
    "model_name = 'rnn_x_epoch.net'\n",
    "\n",
    "checkpoint = {'n_hidden': net.n_hidden,\n",
    "              'n_layers': net.n_layers,\n",
    "              'state_dict': net.state_dict(),\n",
    "              'tokens': net.chars}\n",
    "\n",
    "with open(model_name, 'wb') as f:\n",
    "    torch.save(checkpoint, f)"
   ]
  },
  {
   "cell_type": "markdown",
   "metadata": {},
   "source": [
    "---\n",
    "## Making Predictions\n",
    "\n",
    "Now that the model is trained, we'll want to sample from it and make predictions about next characters! To sample, we pass in a character and have the network predict the next character. Then we take that character, pass it back in, and get another predicted character. Just keep doing this and you'll generate a bunch of text!\n",
    "\n",
    "### A note on the `predict`  function\n",
    "\n",
    "The output of our RNN is from a fully-connected layer and it outputs a **distribution of next-character scores**.\n",
    "\n",
    "> To actually get the next character, we apply a softmax function, which gives us a *probability* distribution that we can then sample to predict the next character.\n",
    "\n",
    "### Top K sampling\n",
    "\n",
    "Our predictions come from a categorical probability distribution over all the possible characters. We can make the sample text and make it more reasonable to handle (with less variables) by only considering some $K$ most probable characters. This will prevent the network from giving us completely absurd characters while allowing it to introduce some noise and randomness into the sampled text. Read more about [topk, here](https://pytorch.org/docs/stable/torch.html#torch.topk).\n"
   ]
  },
  {
   "cell_type": "code",
   "execution_count": 48,
   "metadata": {},
   "outputs": [],
   "source": [
    "def predict(net, char, h=None, top_k=None):\n",
    "        ''' Given a character, predict the next character.\n",
    "            Returns the predicted character and the hidden state.\n",
    "        '''\n",
    "        \n",
    "        # tensor inputs\n",
    "        x = np.array([[net.char2int[char]]])\n",
    "        x = one_hot_encode(x, len(net.chars))\n",
    "        inputs = torch.from_numpy(x)\n",
    "        \n",
    "        if(train_on_gpu):\n",
    "            inputs = inputs.cuda()\n",
    "        \n",
    "        # detach hidden state from history\n",
    "        h = tuple([each.data for each in h])\n",
    "        # get the output of the model\n",
    "        out, h = net(inputs, h)\n",
    "\n",
    "        # get the character probabilities\n",
    "        p = F.softmax(out, dim=1).data\n",
    "        if(train_on_gpu):\n",
    "            p = p.cpu() # move to cpu\n",
    "        \n",
    "        # get top characters\n",
    "        if top_k is None:\n",
    "            top_ch = np.arange(len(net.chars))\n",
    "        else:\n",
    "            p, top_ch = p.topk(top_k)\n",
    "            top_ch = top_ch.numpy().squeeze()\n",
    "        \n",
    "        # select the likely next character with some element of randomness\n",
    "        p = p.numpy().squeeze()\n",
    "        char = np.random.choice(top_ch, p=p/p.sum())\n",
    "        \n",
    "        # return the encoded value of the predicted char and the hidden state\n",
    "        return net.int2char[char], h"
   ]
  },
  {
   "cell_type": "markdown",
   "metadata": {},
   "source": [
    "### Priming and generating text \n",
    "\n",
    "Typically you'll want to prime the network so you can build up a hidden state. Otherwise the network will start out generating characters at random. In general the first bunch of characters will be a little rough since it hasn't built up a long history of characters to predict from."
   ]
  },
  {
   "cell_type": "code",
   "execution_count": 49,
   "metadata": {},
   "outputs": [],
   "source": [
    "def sample(net, size, prime='The', top_k=None):\n",
    "        \n",
    "    if(train_on_gpu):\n",
    "        net.cuda()\n",
    "    else:\n",
    "        net.cpu()\n",
    "    \n",
    "    net.eval() # eval mode\n",
    "    \n",
    "    # First off, run through the prime characters\n",
    "    chars = [ch for ch in prime]\n",
    "    h = net.init_hidden(1)\n",
    "    for ch in prime:\n",
    "        char, h = predict(net, ch, h, top_k=top_k)\n",
    "\n",
    "    chars.append(char)\n",
    "    \n",
    "    # Now pass in the previous character and get a new one\n",
    "    for ii in range(size):\n",
    "        char, h = predict(net, chars[-1], h, top_k=top_k)\n",
    "        chars.append(char)\n",
    "\n",
    "    return ''.join(chars)"
   ]
  },
  {
   "cell_type": "code",
   "execution_count": 50,
   "metadata": {},
   "outputs": [
    {
     "name": "stdout",
     "output_type": "stream",
     "text": [
      "Anna had\n",
      "being some to take him to a mistarce that he had been at\n",
      "the fruention as she was\n",
      "something about her\n",
      "husband's hand, too, said the sort and their carrion,\n",
      "he wanted to her.\"\n",
      "\n",
      "\"It as though to me to stronge to her fore to strange time of his chances in the sangries in the prestrease,\" she said, belating as though the musch she\n",
      "could not his clothes. He stood it in at\n",
      "his face, that he was not strigghed him to to hear three hands, and so in that every said that this\n",
      "service\n",
      "with the comman of the mething of the children.\n",
      "\n",
      "\"You know, I'm think about the person. I don't\n",
      "know how I have the san time, best ta me some\n",
      "mater were is in so than one,\" he said.\n",
      "\n",
      "\"And if I said all\n",
      "the musinces of any teares. And I have been tendel and stolled in.\n",
      "\n",
      "\"I can't be it it and shall momong the stried,\" said Vadenka was. At the same word of the sacisearter to the provint and so simply for her and as she could never be talked to her\n",
      "hearing tho thought\n",
      "of simfly always and the\n",
      "siges from the princess \n"
     ]
    }
   ],
   "source": [
    "print(sample(net, 1000, prime='Anna', top_k=5))"
   ]
  },
  {
   "cell_type": "markdown",
   "metadata": {},
   "source": [
    "## Loading a checkpoint"
   ]
  },
  {
   "cell_type": "code",
   "execution_count": 51,
   "metadata": {},
   "outputs": [],
   "source": [
    "# Here we have loaded in a model that trained over 20 epochs `rnn_20_epoch.net`\n",
    "with open('rnn_x_epoch.net', 'rb') as f:\n",
    "    checkpoint = torch.load(f)\n",
    "    \n",
    "loaded = CharRNN(checkpoint['tokens'], n_hidden=checkpoint['n_hidden'], n_layers=checkpoint['n_layers'])\n",
    "loaded.load_state_dict(checkpoint['state_dict'])"
   ]
  },
  {
   "cell_type": "code",
   "execution_count": 52,
   "metadata": {},
   "outputs": [
    {
     "name": "stdout",
     "output_type": "stream",
     "text": [
      "And Levin said at the strance and that. And he saw that what had a cold contricutul time on the simper, better. And were trather and her from his hands,\n",
      "and a latt had told as\n",
      "he had been forgived him, and how an the paintion, the meating that was a strock than ever of incleating out the prince with hos at the\n",
      "forthing, to say her attont a stirn to\n",
      "thind in a point fresh a point of the pickicice, he was anyone was in all the worrds there as though the province. She saw\n",
      "the pliess of a little sectn of secinest.\n",
      "\n",
      "\"I dispeted your hige something what we's not the most strock of all helpes well a life, we may be the confidence, in the peasant, but an that's as he doing how at that she sould be so\n",
      "to here all as to me in the more of that sees of mother and sounds out to the friend and\n",
      "meetion. That's the more was\n",
      "a moments, and the mined of his straight, and and to see, all he he saw to see him, and see is a door.\"\n",
      "\"The mother has been in the food thing only for a charriage in the matter was. The\n",
      "sement what had so feel the feeling where it was no since in his head and. \"Alone?\" he thinking on the crook\n",
      "were, and who had always back one of it. The condection, and the\n",
      "sares the\n",
      "cried, were distunded her to somether women a shile shoud, who had natured to his head was as should be a garder to have to him.\n",
      "\n",
      "\"I diverted me?\" asked Sergey\n",
      "Ivanovitch. Seeged over, was the\n",
      "face. See his brothing.\n",
      "\n",
      "\"There's noticed you was in, the matter. I say is\n",
      "the saming. And I see the lesser. He would have, to be the strange...\"\n",
      "\n",
      "\"We can't be that it, and\n",
      "to do at the\n",
      "care of the content,\" he said,\n",
      "with his coushed at seemon,..\n",
      "\n",
      "The secramal of the carling and some take, and there was it.\n",
      "\"I've seen is to her as a little.... And that I am a sudd to me to take them, and astituded it.\"\n",
      "\n",
      "He could not tere that this chould\n",
      "back to the prince and hapen, and this standes as he cared the more throuth, and the\n",
      "most he saw that he was at always the braight of\n",
      "his from house of a send of his simple, to howe who he \n"
     ]
    }
   ],
   "source": [
    "# Sample using a loaded model\n",
    "print(sample(loaded, 2000, top_k=5, prime=\"And Levin said\"))"
   ]
  }
 ],
 "metadata": {
  "kernelspec": {
   "display_name": "Python 3",
   "language": "python",
   "name": "python3"
  },
  "language_info": {
   "codemirror_mode": {
    "name": "ipython",
    "version": 3
   },
   "file_extension": ".py",
   "mimetype": "text/x-python",
   "name": "python",
   "nbconvert_exporter": "python",
   "pygments_lexer": "ipython3",
   "version": "3.6.5"
  }
 },
 "nbformat": 4,
 "nbformat_minor": 2
}
